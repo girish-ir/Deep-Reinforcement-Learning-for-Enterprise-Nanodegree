{
  "nbformat": 4,
  "nbformat_minor": 0,
  "metadata": {
    "colab": {
      "name": "CT2.ipynb",
      "provenance": [],
      "collapsed_sections": [],
      "mount_file_id": "1fgDjf40PD1wpvzoK335ykgw4rGa0LvRu",
      "authorship_tag": "ABX9TyPb01UN5ISwrpVk0eTb56ib",
      "include_colab_link": true
    },
    "kernelspec": {
      "name": "python3",
      "display_name": "Python 3"
    }
  },
  "cells": [
    {
      "cell_type": "markdown",
      "metadata": {
        "id": "view-in-github",
        "colab_type": "text"
      },
      "source": [
        "<a href=\"https://colab.research.google.com/github/girish-ir/Deep-Reinforcement-Learning-for-Enterprise-Nanodegree/blob/master/CT2.ipynb\" target=\"_parent\"><img src=\"https://colab.research.google.com/assets/colab-badge.svg\" alt=\"Open In Colab\"/></a>"
      ]
    },
    {
      "cell_type": "markdown",
      "metadata": {
        "id": "rcD7PxBuIexZ",
        "colab_type": "text"
      },
      "source": [
        "#### Importing required packages\n",
        "\n",
        "\n",
        "1.   Pandas for dataframe wrangling\n",
        "2.   json for saving and loading output dict checkpoints to avoid loss of data if colab session resets\n",
        "3. datetime to stamp output files"
      ]
    },
    {
      "cell_type": "code",
      "metadata": {
        "id": "zYbr4wvAwUXX",
        "colab_type": "code",
        "colab": {}
      },
      "source": [
        "import pandas as pd\n",
        "import json\n",
        "from datetime import datetime"
      ],
      "execution_count": 2,
      "outputs": []
    },
    {
      "cell_type": "code",
      "metadata": {
        "id": "EiWsa8IBXkrw",
        "colab_type": "code",
        "colab": {}
      },
      "source": [
        "user_file = '/content/drive/My Drive/data/Actual User Event.csv'\n",
        "sensor_file = '/content/drive/My Drive/data/Sensor Data.csv'"
      ],
      "execution_count": null,
      "outputs": []
    },
    {
      "cell_type": "code",
      "metadata": {
        "id": "OA3YIukjX2FK",
        "colab_type": "code",
        "colab": {
          "base_uri": "https://localhost:8080/",
          "height": 34
        },
        "outputId": "3c4f98f3-35b1-4ffa-ea61-568a6feba0d4"
      },
      "source": [
        "cd /content/drive/My Drive/data/"
      ],
      "execution_count": 3,
      "outputs": [
        {
          "output_type": "stream",
          "text": [
            "/content/drive/My Drive/data\n"
          ],
          "name": "stdout"
        }
      ]
    },
    {
      "cell_type": "markdown",
      "metadata": {
        "id": "0ht_la_iKEs1",
        "colab_type": "text"
      },
      "source": [
        "### Data prep steps:\n",
        "\n",
        "\n",
        "*   Parsing date to datetime format\n",
        "*   Separating date and time for easy comparision between user file and sensor file\n",
        "* Renaming columns for easy handling\n",
        "\n",
        "\n",
        "\n"
      ]
    },
    {
      "cell_type": "markdown",
      "metadata": {
        "id": "uKJf6pv5JurT",
        "colab_type": "text"
      },
      "source": [
        "User activity dataload and prep"
      ]
    },
    {
      "cell_type": "code",
      "metadata": {
        "id": "zb464xMCX8-l",
        "colab_type": "code",
        "colab": {
          "base_uri": "https://localhost:8080/",
          "height": 204
        },
        "outputId": "282ffabe-f878-44d2-a3c6-9b07940d2c77"
      },
      "source": [
        "df_user = pd.read_csv('Actual User Event.csv', parse_dates=[1])\n",
        "df_user.columns = ['Activity', 'Time', 'App_Dev']\n",
        "df_user.Activity = df_user.Activity.str.lower()\n",
        "df_user.sort_values(by = ['Time'], inplace=True)\n",
        "df_user.head()"
      ],
      "execution_count": 11,
      "outputs": [
        {
          "output_type": "execute_result",
          "data": {
            "text/html": [
              "<div>\n",
              "<style scoped>\n",
              "    .dataframe tbody tr th:only-of-type {\n",
              "        vertical-align: middle;\n",
              "    }\n",
              "\n",
              "    .dataframe tbody tr th {\n",
              "        vertical-align: top;\n",
              "    }\n",
              "\n",
              "    .dataframe thead th {\n",
              "        text-align: right;\n",
              "    }\n",
              "</style>\n",
              "<table border=\"1\" class=\"dataframe\">\n",
              "  <thead>\n",
              "    <tr style=\"text-align: right;\">\n",
              "      <th></th>\n",
              "      <th>Activity</th>\n",
              "      <th>Time</th>\n",
              "      <th>App_Dev</th>\n",
              "    </tr>\n",
              "  </thead>\n",
              "  <tbody>\n",
              "    <tr>\n",
              "      <th>2624</th>\n",
              "      <td>reply to tweet</td>\n",
              "      <td>2020-03-12 04:35:44+05:30</td>\n",
              "      <td>Tweetbot for iΟS</td>\n",
              "    </tr>\n",
              "    <tr>\n",
              "      <th>2909</th>\n",
              "      <td>retweet</td>\n",
              "      <td>2020-03-12 04:36:20+05:30</td>\n",
              "      <td>Tweetbot for iΟS</td>\n",
              "    </tr>\n",
              "    <tr>\n",
              "      <th>2908</th>\n",
              "      <td>reply to tweet</td>\n",
              "      <td>2020-03-12 04:37:51+05:30</td>\n",
              "      <td>Tweetbot for iΟS</td>\n",
              "    </tr>\n",
              "    <tr>\n",
              "      <th>1755</th>\n",
              "      <td>tweet</td>\n",
              "      <td>2020-03-12 04:38:35+05:30</td>\n",
              "      <td>Tweetbot for iΟS</td>\n",
              "    </tr>\n",
              "    <tr>\n",
              "      <th>1754</th>\n",
              "      <td>retweet</td>\n",
              "      <td>2020-03-12 04:52:51+05:30</td>\n",
              "      <td>Tweetbot for iΟS</td>\n",
              "    </tr>\n",
              "  </tbody>\n",
              "</table>\n",
              "</div>"
            ],
            "text/plain": [
              "            Activity                      Time           App_Dev\n",
              "2624  reply to tweet 2020-03-12 04:35:44+05:30  Tweetbot for iΟS\n",
              "2909         retweet 2020-03-12 04:36:20+05:30  Tweetbot for iΟS\n",
              "2908  reply to tweet 2020-03-12 04:37:51+05:30  Tweetbot for iΟS\n",
              "1755           tweet 2020-03-12 04:38:35+05:30  Tweetbot for iΟS\n",
              "1754         retweet 2020-03-12 04:52:51+05:30  Tweetbot for iΟS"
            ]
          },
          "metadata": {
            "tags": []
          },
          "execution_count": 11
        }
      ]
    },
    {
      "cell_type": "markdown",
      "metadata": {
        "id": "QN9xFr8yJ83l",
        "colab_type": "text"
      },
      "source": [
        "Sensor data load and parsing"
      ]
    },
    {
      "cell_type": "code",
      "metadata": {
        "id": "iQfuf8s9YIiy",
        "colab_type": "code",
        "colab": {
          "base_uri": "https://localhost:8080/",
          "height": 197
        },
        "outputId": "2b5fbef1-eea1-45e2-a337-53c38aae79d1"
      },
      "source": [
        "df_sensor = pd.read_csv('Sensor Data.csv', parse_dates=[1])\n",
        "df_sensor.head()"
      ],
      "execution_count": null,
      "outputs": [
        {
          "output_type": "execute_result",
          "data": {
            "text/html": [
              "<div>\n",
              "<style scoped>\n",
              "    .dataframe tbody tr th:only-of-type {\n",
              "        vertical-align: middle;\n",
              "    }\n",
              "\n",
              "    .dataframe tbody tr th {\n",
              "        vertical-align: top;\n",
              "    }\n",
              "\n",
              "    .dataframe thead th {\n",
              "        text-align: right;\n",
              "    }\n",
              "</style>\n",
              "<table border=\"1\" class=\"dataframe\">\n",
              "  <thead>\n",
              "    <tr style=\"text-align: right;\">\n",
              "      <th></th>\n",
              "      <th>Activity Type</th>\n",
              "      <th>Time</th>\n",
              "      <th>User ID</th>\n",
              "    </tr>\n",
              "  </thead>\n",
              "  <tbody>\n",
              "    <tr>\n",
              "      <th>0</th>\n",
              "      <td>Tweet With Text</td>\n",
              "      <td>2020-03-13 20:53:00+05:30</td>\n",
              "      <td>889584149</td>\n",
              "    </tr>\n",
              "    <tr>\n",
              "      <th>1</th>\n",
              "      <td>Tweet With Text</td>\n",
              "      <td>2020-03-13 20:54:00+05:30</td>\n",
              "      <td>889584149</td>\n",
              "    </tr>\n",
              "    <tr>\n",
              "      <th>2</th>\n",
              "      <td>Tweet With Text</td>\n",
              "      <td>2020-03-13 20:55:00+05:30</td>\n",
              "      <td>889584149</td>\n",
              "    </tr>\n",
              "    <tr>\n",
              "      <th>3</th>\n",
              "      <td>Tweet With Text</td>\n",
              "      <td>2020-03-13 20:56:00+05:30</td>\n",
              "      <td>889584149</td>\n",
              "    </tr>\n",
              "    <tr>\n",
              "      <th>4</th>\n",
              "      <td>Tweet With Text</td>\n",
              "      <td>2020-03-13 21:00:00+05:30</td>\n",
              "      <td>889584149</td>\n",
              "    </tr>\n",
              "  </tbody>\n",
              "</table>\n",
              "</div>"
            ],
            "text/plain": [
              "     Activity Type                      Time    User ID\n",
              "0  Tweet With Text 2020-03-13 20:53:00+05:30  889584149\n",
              "1  Tweet With Text 2020-03-13 20:54:00+05:30  889584149\n",
              "2  Tweet With Text 2020-03-13 20:55:00+05:30  889584149\n",
              "3  Tweet With Text 2020-03-13 20:56:00+05:30  889584149\n",
              "4  Tweet With Text 2020-03-13 21:00:00+05:30  889584149"
            ]
          },
          "metadata": {
            "tags": []
          },
          "execution_count": 5
        }
      ]
    },
    {
      "cell_type": "code",
      "metadata": {
        "id": "h8_1mCTSYOej",
        "colab_type": "code",
        "colab": {
          "base_uri": "https://localhost:8080/",
          "height": 87
        },
        "outputId": "c14ace6c-b35d-4682-a78b-bad5f0592f7a"
      },
      "source": [
        "df_sensor.columns = ['Activity', 'Time', 'User']\n",
        "df_sensor.sort_values(by = ['User', 'Time'], inplace=True)\n",
        "df_sensor.Activity = df_sensor.Activity.str.lower()\n",
        "df_sensor.dtypes"
      ],
      "execution_count": null,
      "outputs": [
        {
          "output_type": "execute_result",
          "data": {
            "text/plain": [
              "Activity                                   object\n",
              "Time        datetime64[ns, pytz.FixedOffset(330)]\n",
              "User                                        int64\n",
              "dtype: object"
            ]
          },
          "metadata": {
            "tags": []
          },
          "execution_count": 6
        }
      ]
    },
    {
      "cell_type": "markdown",
      "metadata": {
        "id": "vddJHTOmKiZl",
        "colab_type": "text"
      },
      "source": [
        "Activity type analysis:\n",
        "There is no direct mapping provided till the time of this analysis. Following assumptions are made:\n",
        "\n",
        "\n",
        "*   Tweet with GIF is assumed to be Tweet with Image\n",
        "*   Tweet is assumed to be Tweet with Text\n",
        "*   Retweet and Reply to tweet has no direct mapping hence it is assumed to direct match as sensors are inaccurate \n",
        "\n",
        "\n",
        "\n"
      ]
    },
    {
      "cell_type": "code",
      "metadata": {
        "id": "y-U-fJvXYaZ0",
        "colab_type": "code",
        "colab": {
          "base_uri": "https://localhost:8080/",
          "height": 87
        },
        "outputId": "80730adc-bd06-4b0a-ade7-4d7ca3388df3"
      },
      "source": [
        "df_user.Activity.unique(), df_sensor['Activity'].unique()"
      ],
      "execution_count": null,
      "outputs": [
        {
          "output_type": "execute_result",
          "data": {
            "text/plain": [
              "(array(['reply to tweet', 'retweet', 'tweet', 'tweet with video',\n",
              "        'tweet with image'], dtype=object),\n",
              " array(['tweet with text', 'tweet with image', 'tweet with gif',\n",
              "        'tweet with video'], dtype=object))"
            ]
          },
          "metadata": {
            "tags": []
          },
          "execution_count": 7
        }
      ]
    },
    {
      "cell_type": "code",
      "metadata": {
        "id": "vANsSJb6Yxg5",
        "colab_type": "code",
        "colab": {}
      },
      "source": [
        "df_user['activity_mapped'] = df_user.Activity\n",
        "df_user.loc[df_user.activity_mapped == 'tweet', 'activity_mapped'] = 'tweet with text' \n",
        "df_sensor['activity_mapped'] = df_sensor.Activity\n",
        "df_sensor.loc[df_sensor.activity_mapped == 'tweet with gif', 'activity_mapped'] = 'tweet with image' \n",
        "user_activity = df_user.activity_mapped.unique().tolist()\n",
        "sensor_acivity = df_sensor.activity_mapped.unique().tolist()"
      ],
      "execution_count": null,
      "outputs": []
    },
    {
      "cell_type": "markdown",
      "metadata": {
        "id": "hIylxidTLjin",
        "colab_type": "text"
      },
      "source": [
        "Function to create date and time"
      ]
    },
    {
      "cell_type": "code",
      "metadata": {
        "id": "GJY0EsKAYeyU",
        "colab_type": "code",
        "colab": {}
      },
      "source": [
        "def split_datetime(df):\n",
        "    ''' This will use datetime column in the dataframe and create date and time columns'''\n",
        "    df['date'] = df['Time'].dt.date\n",
        "    df['time'] = df['Time'].dt.time\n",
        "    return df"
      ],
      "execution_count": null,
      "outputs": []
    },
    {
      "cell_type": "code",
      "metadata": {
        "id": "sXBRw3SSYkSa",
        "colab_type": "code",
        "colab": {}
      },
      "source": [
        "df_sensor = split_datetime(df_sensor)\n",
        "df_user = split_datetime(df_user)"
      ],
      "execution_count": null,
      "outputs": []
    },
    {
      "cell_type": "code",
      "metadata": {
        "id": "5MjkUUIIYrgj",
        "colab_type": "code",
        "colab": {
          "base_uri": "https://localhost:8080/",
          "height": 197
        },
        "outputId": "b9809cae-cc5f-4a99-81be-276eabf1c10c"
      },
      "source": [
        "df_sensor.head()"
      ],
      "execution_count": null,
      "outputs": [
        {
          "output_type": "execute_result",
          "data": {
            "text/html": [
              "<div>\n",
              "<style scoped>\n",
              "    .dataframe tbody tr th:only-of-type {\n",
              "        vertical-align: middle;\n",
              "    }\n",
              "\n",
              "    .dataframe tbody tr th {\n",
              "        vertical-align: top;\n",
              "    }\n",
              "\n",
              "    .dataframe thead th {\n",
              "        text-align: right;\n",
              "    }\n",
              "</style>\n",
              "<table border=\"1\" class=\"dataframe\">\n",
              "  <thead>\n",
              "    <tr style=\"text-align: right;\">\n",
              "      <th></th>\n",
              "      <th>Activity</th>\n",
              "      <th>Time</th>\n",
              "      <th>User</th>\n",
              "      <th>date</th>\n",
              "      <th>time</th>\n",
              "    </tr>\n",
              "  </thead>\n",
              "  <tbody>\n",
              "    <tr>\n",
              "      <th>371431</th>\n",
              "      <td>tweet with text</td>\n",
              "      <td>2020-03-12 02:39:00+05:30</td>\n",
              "      <td>500389515</td>\n",
              "      <td>2020-03-12</td>\n",
              "      <td>02:39:00</td>\n",
              "    </tr>\n",
              "    <tr>\n",
              "      <th>340293</th>\n",
              "      <td>tweet with text</td>\n",
              "      <td>2020-03-12 02:40:00+05:30</td>\n",
              "      <td>500389515</td>\n",
              "      <td>2020-03-12</td>\n",
              "      <td>02:40:00</td>\n",
              "    </tr>\n",
              "    <tr>\n",
              "      <th>340294</th>\n",
              "      <td>tweet with text</td>\n",
              "      <td>2020-03-12 02:41:00+05:30</td>\n",
              "      <td>500389515</td>\n",
              "      <td>2020-03-12</td>\n",
              "      <td>02:41:00</td>\n",
              "    </tr>\n",
              "    <tr>\n",
              "      <th>340295</th>\n",
              "      <td>tweet with text</td>\n",
              "      <td>2020-03-12 02:42:00+05:30</td>\n",
              "      <td>500389515</td>\n",
              "      <td>2020-03-12</td>\n",
              "      <td>02:42:00</td>\n",
              "    </tr>\n",
              "    <tr>\n",
              "      <th>371432</th>\n",
              "      <td>tweet with text</td>\n",
              "      <td>2020-03-12 02:49:00+05:30</td>\n",
              "      <td>500389515</td>\n",
              "      <td>2020-03-12</td>\n",
              "      <td>02:49:00</td>\n",
              "    </tr>\n",
              "  </tbody>\n",
              "</table>\n",
              "</div>"
            ],
            "text/plain": [
              "               Activity                      Time  ...        date      time\n",
              "371431  tweet with text 2020-03-12 02:39:00+05:30  ...  2020-03-12  02:39:00\n",
              "340293  tweet with text 2020-03-12 02:40:00+05:30  ...  2020-03-12  02:40:00\n",
              "340294  tweet with text 2020-03-12 02:41:00+05:30  ...  2020-03-12  02:41:00\n",
              "340295  tweet with text 2020-03-12 02:42:00+05:30  ...  2020-03-12  02:42:00\n",
              "371432  tweet with text 2020-03-12 02:49:00+05:30  ...  2020-03-12  02:49:00\n",
              "\n",
              "[5 rows x 5 columns]"
            ]
          },
          "metadata": {
            "tags": []
          },
          "execution_count": 11
        }
      ]
    },
    {
      "cell_type": "markdown",
      "metadata": {
        "id": "xhu5NJTxLu7c",
        "colab_type": "text"
      },
      "source": [
        "## Discussion on approach:\n",
        "#### Given facts:\n",
        "* As sensors accuracy is between 5% t0 80%. \n",
        "* Also, the false positive rate of event detection is 300%.\n",
        "* Sensor data and User data observation period might not have full overlap \n",
        "* Activity type between user file and sensor file donot have complete overlap\n",
        "\n",
        " Therefore a partial match approach is suitable.\n",
        "\n",
        " #### Assumptions\n",
        " * Sensors are able to identify dates correctly\n",
        " * No information available on sensors capability to record time accurately. Hence, it is assumed that time is captured correctly. If there is a delay or error (+/-) in recording time same can be accomodated easily in below approach\n",
        "* Above facts rules out event number of event matching.\n",
        "* User file assumed to be correct and accurate \n",
        "\n",
        "#### Matching approach:\n",
        "* Activity Type, Date and Time are relevant features and will be used to match the logs \n",
        "* Retweet and Reply to tweet are ignored for matching\n",
        "\n",
        "Below function implements algorithm to match record observed match count.\n",
        "* A full_match : Date + Time + Activity match\n",
        "* A date_time_match : Date + Time match"
      ]
    },
    {
      "cell_type": "code",
      "metadata": {
        "id": "1VkWDUF3Y6fG",
        "colab_type": "code",
        "colab": {}
      },
      "source": [
        "def match_activity(df_user, df_sensor_filter, userid):\n",
        "  '''\n",
        "  1. Match date\n",
        "  2. Match time\n",
        "  3. Match activity\n",
        "  4. if activity retweet and reply ignore activity match\n",
        "  5. Optimize search to reduce time \n",
        "  '''\n",
        "    #df_sensor_filter = df_sensor[df_sensor.User == userid].reset_index(drop=True)\n",
        "    end_index = df_sensor_filter.shape[0]\n",
        "    match_index = 0 \n",
        "    date_time_match = 0\n",
        "    full_match = 0\n",
        "    for act in df_user.iterrows():\n",
        "        for idx in range(match_index, end_index):\n",
        "            if act[1].date == df_sensor_filter.loc[idx,'date']:\n",
        "                if act[1].time == df_sensor_filter.loc[idx,'time']:\n",
        "                    date_time_match += 1\n",
        "                    match_index = idx\n",
        "                    if act[1].activity_mapped in ['retweet', 'reply to tweet']:\n",
        "                        full_match += 1\n",
        "                    elif act[1].activity_mapped == df_sensor_filter.loc[idx,'activity_mapped']:\n",
        "                        full_match += 1\n",
        "                    break\n",
        "    return date_time_match, full_match"
      ],
      "execution_count": null,
      "outputs": []
    },
    {
      "cell_type": "markdown",
      "metadata": {
        "id": "qF2pB3IRPLgw",
        "colab_type": "text"
      },
      "source": [
        "Function will write output checkpoints in json on gdrive"
      ]
    },
    {
      "cell_type": "code",
      "metadata": {
        "colab_type": "code",
        "id": "k5Y4jBrVPRiU",
        "colab": {}
      },
      "source": [
        "def writefile(match_dict):\n",
        "  '''Function will write output checkpoints in json on gdrive'''\n",
        "  now = datetime.now()\n",
        "  filename = 'dict{}'.format(datetime.now().strftime(\"%H:%M:%S\"))\n",
        "  with open(filename, 'w') as file:\n",
        "    file.write(json.dumps(match_dict))"
      ],
      "execution_count": null,
      "outputs": []
    },
    {
      "cell_type": "code",
      "metadata": {
        "id": "yRtGCdWrjDUs",
        "colab_type": "code",
        "colab": {}
      },
      "source": [
        "userids = df_sensor.User.unique().tolist() ## All userids in sensor file\n",
        "#userids = userids[:10]"
      ],
      "execution_count": null,
      "outputs": []
    },
    {
      "cell_type": "markdown",
      "metadata": {
        "id": "eKM9Q4NCPKBV",
        "colab_type": "text"
      },
      "source": [
        "### Main function to search \n",
        "Before searching remove non-overlapping user and sensor data"
      ]
    },
    {
      "cell_type": "code",
      "metadata": {
        "id": "-sKbBYPGZQXq",
        "colab_type": "code",
        "colab": {
          "base_uri": "https://localhost:8080/",
          "height": 247
        },
        "outputId": "e3566e3b-b4e7-44a0-a6b0-4fea8363f9fd"
      },
      "source": [
        "match_dict = {}\n",
        "for i, userid in enumerate(userids):\n",
        "    df_sensor_filter = df_sensor[df_sensor.User == userid].reset_index(drop=True)\n",
        "    mind,maxd= df_sensor_filter.date.min(), df_sensor_filter.date.max()\n",
        "    dfu = df_user[(df_user.date >= mind) & (df_user.date <= maxd)]\n",
        "    print('Processing for {}'.format(userid))\n",
        "    item_dict = {}\n",
        "    item_dict['date_time_match'], item_dict['full_match'] = match_activity(dfu, df_sensor_filter, userid)\n",
        "    match_dict[userid] = item_dict\n",
        "    print(userid, match_dict[userid])\n",
        "    if i % 5 == 0:\n",
        "        writefile(match_dict)\n",
        "writefile(match_dict)"
      ],
      "execution_count": null,
      "outputs": [
        {
          "output_type": "stream",
          "text": [
            "Processing for 831025230667\n",
            "831025230667 {'date_time_match': 5, 'full_match': 4}\n",
            "Processing for 831025304854\n",
            "831025304854 {'date_time_match': 3, 'full_match': 1}\n",
            "Processing for 831040073720\n",
            "831040073720 {'date_time_match': 5, 'full_match': 3}\n",
            "Processing for 831040132270\n",
            "831040132270 {'date_time_match': 6, 'full_match': 4}\n",
            "Processing for 831040188914\n",
            "831040188914 {'date_time_match': 8, 'full_match': 7}\n",
            "Processing for 831040280877\n",
            "831040280877 {'date_time_match': 3, 'full_match': 3}\n",
            "Processing for 831040408395\n"
          ],
          "name": "stdout"
        }
      ]
    },
    {
      "cell_type": "code",
      "metadata": {
        "id": "zY3uyb05aInJ",
        "colab_type": "code",
        "colab": {
          "base_uri": "https://localhost:8080/",
          "height": 34
        },
        "outputId": "f4104dba-22fb-482c-ed70-db456b1207a1"
      },
      "source": [
        "len(userids) "
      ],
      "execution_count": null,
      "outputs": [
        {
          "output_type": "execute_result",
          "data": {
            "text/plain": [
              "98"
            ]
          },
          "metadata": {
            "tags": []
          },
          "execution_count": 30
        }
      ]
    },
    {
      "cell_type": "markdown",
      "metadata": {
        "id": "tg49AHD0P5Py",
        "colab_type": "text"
      },
      "source": [
        "Re-run code for user is left out for session reset"
      ]
    },
    {
      "cell_type": "code",
      "metadata": {
        "id": "0Cy05JJhoz6h",
        "colab_type": "code",
        "colab": {}
      },
      "source": [
        "user_left = [itr for itr in userids if itr not in user_done]"
      ],
      "execution_count": null,
      "outputs": []
    },
    {
      "cell_type": "markdown",
      "metadata": {
        "id": "KJ9ZwF4EQAx2",
        "colab_type": "text"
      },
      "source": [
        "Genrate composite score:\n",
        "\n",
        "\n",
        "*   Scale the scores to less than unit\n",
        "*   0.75 * full match + 0.25 * date time match\n",
        "* sort values\n",
        "\n"
      ]
    },
    {
      "cell_type": "code",
      "metadata": {
        "id": "6YIdtJCipAWb",
        "colab_type": "code",
        "colab": {
          "base_uri": "https://localhost:8080/",
          "height": 235
        },
        "outputId": "f4a55573-d612-42b0-e090-3b90bcef6edc"
      },
      "source": [
        "results_df = pd.read_csv('/content/drive/My Drive/data/final_list.csv')\n",
        "results_df['composite_match'] = results_df.date_time_match * 0.25 + results_df.full_match * 0.75\n",
        "results_df.set_index(['User'], inplace=True)\n",
        "results_df = results_df / results_df.sum()\n",
        "results_df.sort_values(['composite_match'], ascending=False, inplace=True)\n",
        "results_df.head()"
      ],
      "execution_count": 12,
      "outputs": [
        {
          "output_type": "execute_result",
          "data": {
            "text/html": [
              "<div>\n",
              "<style scoped>\n",
              "    .dataframe tbody tr th:only-of-type {\n",
              "        vertical-align: middle;\n",
              "    }\n",
              "\n",
              "    .dataframe tbody tr th {\n",
              "        vertical-align: top;\n",
              "    }\n",
              "\n",
              "    .dataframe thead th {\n",
              "        text-align: right;\n",
              "    }\n",
              "</style>\n",
              "<table border=\"1\" class=\"dataframe\">\n",
              "  <thead>\n",
              "    <tr style=\"text-align: right;\">\n",
              "      <th></th>\n",
              "      <th>date_time_match</th>\n",
              "      <th>full_match</th>\n",
              "      <th>composite_match</th>\n",
              "    </tr>\n",
              "    <tr>\n",
              "      <th>User</th>\n",
              "      <th></th>\n",
              "      <th></th>\n",
              "      <th></th>\n",
              "    </tr>\n",
              "  </thead>\n",
              "  <tbody>\n",
              "    <tr>\n",
              "      <th>555802093</th>\n",
              "      <td>0.042751</td>\n",
              "      <td>0.047120</td>\n",
              "      <td>0.045724</td>\n",
              "    </tr>\n",
              "    <tr>\n",
              "      <th>546629996</th>\n",
              "      <td>0.035316</td>\n",
              "      <td>0.034031</td>\n",
              "      <td>0.034442</td>\n",
              "    </tr>\n",
              "    <tr>\n",
              "      <th>548932008</th>\n",
              "      <td>0.031599</td>\n",
              "      <td>0.034031</td>\n",
              "      <td>0.033254</td>\n",
              "    </tr>\n",
              "    <tr>\n",
              "      <th>547792325</th>\n",
              "      <td>0.029740</td>\n",
              "      <td>0.031414</td>\n",
              "      <td>0.030879</td>\n",
              "    </tr>\n",
              "    <tr>\n",
              "      <th>889969367</th>\n",
              "      <td>0.024164</td>\n",
              "      <td>0.023560</td>\n",
              "      <td>0.023753</td>\n",
              "    </tr>\n",
              "  </tbody>\n",
              "</table>\n",
              "</div>"
            ],
            "text/plain": [
              "           date_time_match  full_match  composite_match\n",
              "User                                                   \n",
              "555802093         0.042751    0.047120         0.045724\n",
              "546629996         0.035316    0.034031         0.034442\n",
              "548932008         0.031599    0.034031         0.033254\n",
              "547792325         0.029740    0.031414         0.030879\n",
              "889969367         0.024164    0.023560         0.023753"
            ]
          },
          "metadata": {
            "tags": []
          },
          "execution_count": 12
        }
      ]
    },
    {
      "cell_type": "code",
      "metadata": {
        "id": "tll3WX1wGr3W",
        "colab_type": "code",
        "colab": {}
      },
      "source": [
        "results_df.to_csv('scenario_2_output.csv')"
      ],
      "execution_count": 10,
      "outputs": []
    },
    {
      "cell_type": "code",
      "metadata": {
        "id": "ckDjpksLHQie",
        "colab_type": "code",
        "colab": {}
      },
      "source": [
        ""
      ],
      "execution_count": null,
      "outputs": []
    }
  ]
}